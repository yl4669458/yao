{
 "cells": [
  {
   "cell_type": "code",
   "execution_count": 3,
   "metadata": {},
   "outputs": [
    {
     "name": "stdout",
     "output_type": "stream",
     "text": [
      "['hello', 'world', 'apple']\n",
      "测试通过\n"
     ]
    }
   ],
   "source": [
    "#列表生成式\n",
    "#/user/bin/python 3\n",
    "#-*- conding:utf -*-\n",
    "\n",
    "L1 = ['Hello', 'World', 18, 'Apple', None]\n",
    "L2 = [x.lower()  for x in L1 if isinstance(x, str)]\n",
    "\n",
    "print(L2)\n",
    "\n",
    "if L2 == ['hello', 'world', 'apple']:\n",
    "    print('测试通过')\n",
    "else:\n",
    "    print('测试失败')"
   ]
  },
  {
   "cell_type": "code",
   "execution_count": null,
   "metadata": {},
   "outputs": [],
   "source": []
  }
 ],
 "metadata": {
  "kernelspec": {
   "display_name": "Python 3",
   "language": "python",
   "name": "python3"
  },
  "language_info": {
   "codemirror_mode": {
    "name": "ipython",
    "version": 3
   },
   "file_extension": ".py",
   "mimetype": "text/x-python",
   "name": "python",
   "nbconvert_exporter": "python",
   "pygments_lexer": "ipython3",
   "version": "3.7.4"
  }
 },
 "nbformat": 4,
 "nbformat_minor": 2
}
