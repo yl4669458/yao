{
 "cells": [
  {
   "cell_type": "code",
   "execution_count": 38,
   "metadata": {},
   "outputs": [
    {
     "name": "stdout",
     "output_type": "stream",
     "text": [
      "测试成功\n"
     ]
    }
   ],
   "source": [
    "#去除字符串前后第空格\n",
    "#/user/bin/python 3\n",
    "#-*- conding:utf-8 -*-\n",
    "\n",
    "def trim(s):\n",
    "    n = 0\n",
    "    t = len(s) \n",
    "    \n",
    "    if s == '':\n",
    "        return s\n",
    "    for i in s:\n",
    "        if ord(i) == 32:\n",
    "            n += 1\n",
    "            continue\n",
    "        else:\n",
    "            break\n",
    "    for j in s[::-1]:\n",
    "        if ord(j) == 32:\n",
    "            t -= 1\n",
    "            continue\n",
    "        else:\n",
    "            break\n",
    "\n",
    "    return s[n:t]\n",
    "\n",
    "                \n",
    "if trim('hello  ') != 'hello':\n",
    "        print('测试失败')\n",
    "elif trim('  hello') != 'hello':\n",
    "        print('测试失败')        \n",
    "elif trim('  hello  ') != 'hello':\n",
    "        print('测试失败')        \n",
    "elif trim('  hello world  ') != 'hello world':\n",
    "        print('测试失败')        \n",
    "elif trim('') != '':\n",
    "        print('测试失败')        \n",
    "elif trim('          ') != '':\n",
    "        print('测试失败')        \n",
    "else:\n",
    "        print('测试成功')"
   ]
  },
  {
   "cell_type": "code",
   "execution_count": 25,
   "metadata": {},
   "outputs": [
    {
     "name": "stdout",
     "output_type": "stream",
     "text": [
      "测试成功\n"
     ]
    }
   ],
   "source": [
    "#递归\n",
    "#/user/bin/python 3\n",
    "#-*- conding:utf-8 -*-\n",
    "\n",
    "def trim2(s):\n",
    "#这里有个return，如果进入这个语句，就一定会返回结束    \n",
    "    if s[:1] == ' ':\n",
    "        return trim2(s[1:])#\n",
    "#这里有个return，如果进入这个语句，就一定会返回结束\n",
    "    elif s[-1:] == ' ':\n",
    "        return trim2(s[:-1])\n",
    "    else:\n",
    "#这里有个return，如果进入这个语句，就一定会返回结束\n",
    "        return s\n",
    "            \n",
    "if trim2('hello  ') != 'hello':\n",
    "        print('测试失败')\n",
    "elif trim2('  hello') != 'hello':\n",
    "        print('测试失败')        \n",
    "elif trim2('  hello  ') != 'hello':\n",
    "        print('测试失败')        \n",
    "elif trim2('  hello world  ') != 'hello world':\n",
    "        print('测试失败')        \n",
    "elif trim2('') != '':\n",
    "        print('测试失败')        \n",
    "elif trim2('          ') != '':\n",
    "        print('测试失败')        \n",
    "else:\n",
    "        print('测试成功')"
   ]
  },
  {
   "cell_type": "code",
   "execution_count": null,
   "metadata": {},
   "outputs": [],
   "source": []
  }
 ],
 "metadata": {
  "kernelspec": {
   "display_name": "Python 3",
   "language": "python",
   "name": "python3"
  },
  "language_info": {
   "codemirror_mode": {
    "name": "ipython",
    "version": 3
   },
   "file_extension": ".py",
   "mimetype": "text/x-python",
   "name": "python",
   "nbconvert_exporter": "python",
   "pygments_lexer": "ipython3",
   "version": "3.7.4"
  }
 },
 "nbformat": 4,
 "nbformat_minor": 2
}
