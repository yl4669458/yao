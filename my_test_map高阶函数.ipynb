{
 "cells": [
  {
   "cell_type": "code",
   "execution_count": 62,
   "metadata": {},
   "outputs": [
    {
     "data": {
      "text/plain": [
       "['Amda', 'Daiv', 'Tony']"
      ]
     },
     "execution_count": 62,
     "metadata": {},
     "output_type": "execute_result"
    }
   ],
   "source": [
    "#高阶函数 用map()，把用户输入的英文名字，变为首字母大写，其他小写。\n",
    "#/user/bin/python 3\n",
    "#-*- conding:utf-8 -*-\n",
    "\n",
    "def test_name(s):\n",
    "    n = 1\n",
    "    b = ''\n",
    "    c = []\n",
    "    for j in s:    \n",
    "        for i in j:\n",
    "            if n == 1:\n",
    "                b += i.upper()\n",
    "                n += 1\n",
    "            else:\n",
    "                b += i.lower()\n",
    "        c.append(b)\n",
    "        n = 1\n",
    "        b = ''     \n",
    "    return c\n",
    "test_name(['amda', 'daiV', 'tONY'])"
   ]
  },
  {
   "cell_type": "code",
   "execution_count": 65,
   "metadata": {},
   "outputs": [],
   "source": [
    "#高阶函数 用map()，把用户输入的英文名字，变为首字母大写，其他小写。\n",
    "#/user/bin/python 3\n",
    "#-*- conding:utf-8 -*-\n",
    "\n",
    "def test_b(s):\n",
    "    n = 1\n",
    "    b = ''\n",
    "    if isinstance(s, str):\n",
    "        for i in s:\n",
    "            if n == 1:\n",
    "                b += i.upper()\n",
    "                n += 1\n",
    "            else:\n",
    "                b += i.lower()\n",
    "        return b\n",
    "    \n",
    "    elif isinstance(s, list):\n",
    "        return list(map(test_a, s))"
   ]
  },
  {
   "cell_type": "code",
   "execution_count": 68,
   "metadata": {},
   "outputs": [
    {
     "data": {
      "text/plain": [
       "['Amda', 'Apple']"
      ]
     },
     "execution_count": 68,
     "metadata": {},
     "output_type": "execute_result"
    }
   ],
   "source": [
    "#高阶函数 用map()，把用户输入的英文名字，变为首字母大写，其他小写。\n",
    "#/user/bin/python 3\n",
    "#-*- conding:utf-8 -*-\n",
    "\n",
    "test_b(['amda', 'aPPLe'])"
   ]
  },
  {
   "cell_type": "code",
   "execution_count": 80,
   "metadata": {},
   "outputs": [
    {
     "data": {
      "text/plain": [
       "['Abc']"
      ]
     },
     "execution_count": 80,
     "metadata": {},
     "output_type": "execute_result"
    }
   ],
   "source": [
    "#高阶函数 用map()，把用户输入的英文名字，变为首字母大写，其他小写。\n",
    "#/user/bin/python 3\n",
    "#-*- conding:utf-8 -*-\n",
    "\n",
    "def test_a(s):\n",
    "    if isinstance(s, str):\n",
    "        return s[:1].upper() + s[1:].lower()\n",
    "    elif isinstance(s, list):\n",
    "        return list(map(test_a, s))\n",
    "    \n",
    "test_a(['abc'])"
   ]
  },
  {
   "cell_type": "code",
   "execution_count": null,
   "metadata": {},
   "outputs": [],
   "source": []
  }
 ],
 "metadata": {
  "kernelspec": {
   "display_name": "Python 3",
   "language": "python",
   "name": "python3"
  },
  "language_info": {
   "codemirror_mode": {
    "name": "ipython",
    "version": 3
   },
   "file_extension": ".py",
   "mimetype": "text/x-python",
   "name": "python",
   "nbconvert_exporter": "python",
   "pygments_lexer": "ipython3",
   "version": "3.7.4"
  }
 },
 "nbformat": 4,
 "nbformat_minor": 2
}
