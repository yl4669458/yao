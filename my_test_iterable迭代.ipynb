{
 "cells": [
  {
   "cell_type": "code",
   "execution_count": 5,
   "metadata": {},
   "outputs": [
    {
     "name": "stdout",
     "output_type": "stream",
     "text": [
      "测试成功\n"
     ]
    }
   ],
   "source": [
    "#迭代 查找一个list中最小和最大值，并返回一个tuple\n",
    "#/user/bin/python 3\n",
    "#-*- conding:utf-8 -*-\n",
    "\n",
    "def findMinAndMax(L):\n",
    "    if L == []:\n",
    "        return None, None\n",
    "    elif len(L) == 1:\n",
    "        return L[0], L[0]\n",
    "    else:\n",
    "        return min(L), max(L)\n",
    "\n",
    "if findMinAndMax([]) != (None, None):\n",
    "    print('测试失败')\n",
    "elif findMinAndMax([7]) != (7, 7):\n",
    "    print('测试失败')\n",
    "elif findMinAndMax([7, 1]) != (1, 7):\n",
    "    print('测试失败')\n",
    "elif findMinAndMax([7, 1, 3, 9, 5]) != (1, 9):\n",
    "    print('测试失败')\n",
    "else:\n",
    "    print('测试成功')\n",
    "    "
   ]
  },
  {
   "cell_type": "code",
   "execution_count": 2,
   "metadata": {},
   "outputs": [],
   "source": [
    "#递归 查找一个list中最小和最大值，并返回一个tuple\n",
    "#/user/bin/python 3\n",
    "#-*- conding:utf-8 -*-\n",
    "\n",
    "def findMinAndMax(L):pass\n",
    "#   if L[:1] > L[1:2]:\n",
    "#        L.append(L[0])\n",
    "#        return findMinAndMax(L[2:])\n",
    "                    "
   ]
  },
  {
   "cell_type": "code",
   "execution_count": 8,
   "metadata": {},
   "outputs": [
    {
     "name": "stdout",
     "output_type": "stream",
     "text": [
      "测试成功\n"
     ]
    }
   ],
   "source": [
    "#查找一个list中最小和最大值，并返回一个tuple\n",
    "#/user/bin/python 3\n",
    "#-*- conding:utf-8 -*-\n",
    "\n",
    "def findMinAndMax(L):\n",
    "    if L == []:\n",
    "        return None, None\n",
    "    else:\n",
    "        Min = L[0]\n",
    "        Max = L[0]\n",
    "        \n",
    "        for i in L:\n",
    "            if i < Min:\n",
    "                Min = i\n",
    "            elif i > Max:\n",
    "                Max = i\n",
    "                \n",
    "    return Min, Max\n",
    "\n",
    "if findMinAndMax([]) != (None, None):\n",
    "    print('测试失败')\n",
    "    print(1)\n",
    "elif findMinAndMax([7]) != (7, 7):\n",
    "    print('测试失败')\n",
    "    print(2)\n",
    "elif findMinAndMax([7, 1]) != (1, 7):\n",
    "    print(3)\n",
    "    print('测试失败')\n",
    "elif findMinAndMax([7, 1, 3, 9, 5]) != (1, 9):\n",
    "    print('测试失败')\n",
    "    print(4)\n",
    "else:\n",
    "    print('测试成功')"
   ]
  },
  {
   "cell_type": "code",
   "execution_count": 9,
   "metadata": {},
   "outputs": [
    {
     "name": "stdout",
     "output_type": "stream",
     "text": [
      "测试成功\n"
     ]
    }
   ],
   "source": [
    "#查找一个list中最小和最大值，并返回一个tuple\n",
    "#/user/bin/python 3\n",
    "#-*- conding:utf-8 -*-\n",
    "\n",
    "def findMinAndMax(L):\n",
    "    if L: #这里表示L是不是空，如果是返回True,不是返回False\n",
    "        return min(L), max(L)\n",
    "    else:\n",
    "        return None, None\n",
    "    \n",
    "if findMinAndMax([]) != (None, None):\n",
    "    print('测试失败')\n",
    "    print(1)\n",
    "elif findMinAndMax([7]) != (7, 7):\n",
    "    print('测试失败')\n",
    "    print(2)\n",
    "elif findMinAndMax([7, 1]) != (1, 7):\n",
    "    print(3)\n",
    "    print('测试失败')\n",
    "elif findMinAndMax([7, 1, 3, 9, 5]) != (1, 9):\n",
    "    print('测试失败')\n",
    "    print(4)\n",
    "else:\n",
    "    print('测试成功')"
   ]
  },
  {
   "cell_type": "code",
   "execution_count": null,
   "metadata": {},
   "outputs": [],
   "source": []
  }
 ],
 "metadata": {
  "kernelspec": {
   "display_name": "Python 3",
   "language": "python",
   "name": "python3"
  },
  "language_info": {
   "codemirror_mode": {
    "name": "ipython",
    "version": 3
   },
   "file_extension": ".py",
   "mimetype": "text/x-python",
   "name": "python",
   "nbconvert_exporter": "python",
   "pygments_lexer": "ipython3",
   "version": "3.7.4"
  }
 },
 "nbformat": 4,
 "nbformat_minor": 2
}
