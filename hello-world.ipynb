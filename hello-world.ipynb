{
 "cells": [
  {
   "cell_type": "code",
   "execution_count": 10,
   "metadata": {},
   "outputs": [
    {
     "name": "stdout",
     "output_type": "stream",
     "text": [
      "a = 1 b = 2 c = 0 args = () kw = {}\n",
      "a = 1 b = 2 c = 3 args = () kw = {}\n",
      "a = 1 b = 2 c = 3 args = ('a', 'b') kw = {}\n",
      "a = 1 b = 2 c = 3 args = ('a', 'b') kw = {'x': 99}\n",
      "a = 1 b = 2 c = 0 d = 99 kw = {'ext': None}\n",
      "a = 1 b = 2 c = 3 args = (4,) kw = {'d': 99, 'x': '#'}\n",
      "a = 1 b = 2 c = 3 d = 88 kw = {'x': '#'}\n"
     ]
    }
   ],
   "source": [
    "#参数组合\n",
    "\n",
    "\n",
    "def f1(a, b, c = 0, *args, **kw):\n",
    "    print('a =', a, 'b =', b, 'c =', c, 'args =', args, 'kw =', kw)\n",
    "    \n",
    "def f2(a, b, c = 0, *, d, **kw):\n",
    "    print('a =', a, 'b =', b, 'c =', c, 'd =', d, 'kw =', kw)\n",
    "    \n",
    "                      \n",
    "f1(1, 2)\n",
    "f1(1, 2, c = 3)# 可以c = 3,也可以 直接传3\n",
    "f1(1, 2, 3, 'a', 'b') #'a''b'进入*args因为只有*args适合\n",
    "f1(1, 2, 3, 'a', 'b', x = 99)# x = 99进入*kw，因为字典适合\n",
    "\n",
    "f2(1, 2, d = 99, ext = None)# d = 99是指定参数,所以没进c, ext = None进字典\n",
    "\n",
    "#最神奇的是通过一个tuple 和 dict, 你也可以调整上述函数：\n",
    "args = (1, 2, 3, 4)\n",
    "kw = {'d' : 99, 'x' : '#'}\n",
    "\n",
    "f1(*args, **kw)#args 进入先匹配位置和默认参数，剩下的在进入可变参数，**kw分成赋值 d = 99, x = '#'\n",
    "#进入关键字参数（**kw）\n",
    "args = (1, 2, 3)\n",
    "kw = {'d' : 88, 'x' : '#'}\n",
    "f2(*args, **kw)"
   ]
  },
  {
   "cell_type": "code",
   "execution_count": null,
   "metadata": {},
   "outputs": [],
   "source": []
  }
 ],
 "metadata": {
  "kernelspec": {
   "display_name": "Python 3",
   "language": "python",
   "name": "python3"
  },
  "language_info": {
   "codemirror_mode": {
    "name": "ipython",
    "version": 3
   },
   "file_extension": ".py",
   "mimetype": "text/x-python",
   "name": "python",
   "nbconvert_exporter": "python",
   "pygments_lexer": "ipython3",
   "version": "3.7.4"
  }
 },
 "nbformat": 4,
 "nbformat_minor": 2
}
