{
 "cells": [
  {
   "cell_type": "code",
   "execution_count": 12,
   "metadata": {},
   "outputs": [
    {
     "name": "stdout",
     "output_type": "stream",
     "text": [
      "A --> C\n",
      "A --> B\n",
      "C --> B\n",
      "A --> C\n",
      "B --> A\n",
      "B --> C\n",
      "A --> C\n"
     ]
    }
   ],
   "source": [
    "#汉诺塔 (2^n - 1，n就像当盘子个数)比如n = 10 ，a有10个盘子，就得先把前9个放到b，把最后一个放到c，再把b的9个放到c；\n",
    "\n",
    "#而怎么把a前9个放到b，就再调用一次move(),只不过这次是a利用c放到b上，所以是move(n-1,a,c,b)；#就是a-->b\n",
    "\n",
    "#后面b的9个盘子放到c上也是相同的方法，b利用a放到c上，move(n-1,b,a,c)  \n",
    "\n",
    "#/user/bin/python 3\n",
    "#-*- conding: utf-8 -*-\n",
    "\n",
    "def move(n, a, b, c):#参数从新进来a,b,c重新排列\n",
    "    if n == 1:\n",
    "        print(a, '-->', c)#print a '-->' c是经过从新排列的\n",
    "        \n",
    "    else:\n",
    "        move(n-1, a, c, b)#第一次 a,c,b 第二次重新调用函数变为a,b,c，\n",
    "        #因为a,c,b进入函数，相当于 a = a, b = c, c = b\n",
    "        move(1, a, b, c)\n",
    "        move(n-1, b, a, c)\n",
    "move(3,'A','B','C')"
   ]
  },
  {
   "cell_type": "code",
   "execution_count": null,
   "metadata": {},
   "outputs": [],
   "source": []
  }
 ],
 "metadata": {
  "kernelspec": {
   "display_name": "Python 3",
   "language": "python",
   "name": "python3"
  },
  "language_info": {
   "codemirror_mode": {
    "name": "ipython",
    "version": 3
   },
   "file_extension": ".py",
   "mimetype": "text/x-python",
   "name": "python",
   "nbconvert_exporter": "python",
   "pygments_lexer": "ipython3",
   "version": "3.7.4"
  }
 },
 "nbformat": 4,
 "nbformat_minor": 2
}
