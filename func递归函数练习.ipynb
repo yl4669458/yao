{
 "cells": [
  {
   "cell_type": "code",
   "execution_count": 5,
   "metadata": {},
   "outputs": [
    {
     "name": "stdout",
     "output_type": "stream",
     "text": [
      "A --> C\n",
      "A --> B\n",
      "C --> B\n",
      "A --> C\n",
      "B --> A\n",
      "B --> C\n",
      "A --> C\n"
     ]
    }
   ],
   "source": [
    "#汉诺塔\n",
    "\n",
    "#/user/bin/python 3\n",
    "#-*- conding: utf-8 -*-\n",
    "\n",
    "def move(n, a, b, c):\n",
    "    if n == 1:\n",
    "        print(a, '-->', c)\n",
    "        \n",
    "    else:\n",
    "        move(n-1, a, c, b)\n",
    "        move(1, a, b, c)\n",
    "        move(n-1, b, a, c)\n",
    "    \n",
    "\n",
    "move(3, 'A', 'B', 'C')"
   ]
  },
  {
   "cell_type": "code",
   "execution_count": null,
   "metadata": {},
   "outputs": [],
   "source": []
  }
 ],
 "metadata": {
  "kernelspec": {
   "display_name": "Python 3",
   "language": "python",
   "name": "python3"
  },
  "language_info": {
   "codemirror_mode": {
    "name": "ipython",
    "version": 3
   },
   "file_extension": ".py",
   "mimetype": "text/x-python",
   "name": "python",
   "nbconvert_exporter": "python",
   "pygments_lexer": "ipython3",
   "version": "3.7.4"
  }
 },
 "nbformat": 4,
 "nbformat_minor": 2
}
