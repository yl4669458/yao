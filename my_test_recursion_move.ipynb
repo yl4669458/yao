{
 "cells": [
  {
   "cell_type": "code",
   "execution_count": 9,
   "metadata": {},
   "outputs": [
    {
     "name": "stdout",
     "output_type": "stream",
     "text": [
      "[2, 3, 4] [] [1]\n",
      "[3, 4] [1] [2]\n",
      "[] [3, 4] [1, 2]\n",
      "[4] [1, 2] [3]\n",
      "[2] [3] [1, 4]\n",
      "[] [1, 4] [2, 3]\n",
      "[4] [] [1, 2, 3]\n",
      "[] [1, 2, 3] [4]\n",
      "[2, 3] [] [1, 4]\n",
      "[3] [1, 4] [2]\n",
      "[4] [3] [1, 2]\n",
      "[] [1, 2] [3, 4]\n",
      "[2] [3, 4] [1]\n",
      "[] [1] [2, 3, 4]\n",
      "[] [] [1, 2, 3, 4]\n"
     ]
    }
   ],
   "source": [
    "#汉洛塔\n",
    "#/user/bin/python 3\n",
    "#-*- conding:utf-8 -*-\n",
    "\n",
    "def move(n, a,b,c):\n",
    "    if n == 1:\n",
    "        c.insert(0, a[0])\n",
    "        a.pop(0)\n",
    "        print(a,b,c)\n",
    "    \n",
    "    else:\n",
    "        move(n-1,a,c,b)\n",
    "        move(1,a,b,c)\n",
    "        move(n-1,b,a,c)\n",
    "\n",
    "move(4,[1,2,3,4],[],[])"
   ]
  },
  {
   "cell_type": "code",
   "execution_count": 7,
   "metadata": {},
   "outputs": [
    {
     "name": "stdout",
     "output_type": "stream",
     "text": [
      "A --> C\n",
      "A --> B\n",
      "C --> B\n",
      "A --> C\n",
      "B --> A\n",
      "B --> C\n",
      "A --> C\n"
     ]
    },
    {
     "data": {
      "text/plain": [
       "('A', 'B', 'C')"
      ]
     },
     "execution_count": 7,
     "metadata": {},
     "output_type": "execute_result"
    }
   ],
   "source": [
    "def move(n, a,b,c):\n",
    "    if n == 1:\n",
    "        print(a, '-->', c)\n",
    "    else:\n",
    "        move(n-1,a,c,b)\n",
    "        move(1,a,b,c)\n",
    "        move(n-1,b,a,c)\n",
    "    return a,b,c\n",
    "        \n",
    "move(3,'A','B','C')"
   ]
  },
  {
   "cell_type": "code",
   "execution_count": null,
   "metadata": {},
   "outputs": [],
   "source": []
  }
 ],
 "metadata": {
  "kernelspec": {
   "display_name": "Python 3",
   "language": "python",
   "name": "python3"
  },
  "language_info": {
   "codemirror_mode": {
    "name": "ipython",
    "version": 3
   },
   "file_extension": ".py",
   "mimetype": "text/x-python",
   "name": "python",
   "nbconvert_exporter": "python",
   "pygments_lexer": "ipython3",
   "version": "3.7.4"
  }
 },
 "nbformat": 4,
 "nbformat_minor": 2
}
