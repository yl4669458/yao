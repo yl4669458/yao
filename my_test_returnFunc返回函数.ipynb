{
 "cells": [
  {
   "cell_type": "code",
   "execution_count": 125,
   "metadata": {},
   "outputs": [
    {
     "data": {
      "text/plain": [
       "([1, 2], [1, 2])"
      ]
     },
     "execution_count": 125,
     "metadata": {},
     "output_type": "execute_result"
    }
   ],
   "source": [
    "#返回函数\n",
    "#/user/bin/python 3\n",
    "#-*- coding:utf-8 -*-\n",
    "\n",
    "def creatCounter():\n",
    "    i = [0]\n",
    "    n = []\n",
    "    def counter():\n",
    "        i[0] += 1\n",
    "        n.append(i[0])\n",
    "        return n\n",
    "    return counter\n",
    "\n",
    "a = creatCounter()\n",
    "a(),a()"
   ]
  },
  {
   "cell_type": "code",
   "execution_count": 106,
   "metadata": {},
   "outputs": [
    {
     "data": {
      "text/plain": [
       "9"
      ]
     },
     "execution_count": 106,
     "metadata": {},
     "output_type": "execute_result"
    }
   ],
   "source": [
    "def count():\n",
    "    fs = []\n",
    "    def mpv():\n",
    "        for i in range(1,4):\n",
    "            def f():\n",
    "                return i * i\n",
    "            fs.append(f)\n",
    "        return fs\n",
    "    return mpv\n",
    "\n",
    "f2 = count()\n",
    "len(f2())\n",
    "len(f2())\n",
    "len(f2())"
   ]
  },
  {
   "cell_type": "code",
   "execution_count": 88,
   "metadata": {},
   "outputs": [
    {
     "name": "stdout",
     "output_type": "stream",
     "text": [
      "[]\n",
      "[]\n",
      "[]\n"
     ]
    }
   ],
   "source": [
    "def test_1():\n",
    "    i =[]\n",
    "    def m():\n",
    "        i.append('a')\n",
    "        return i\n",
    "    return i\n",
    "\n",
    "t = test_1()\n",
    "print(t)\n",
    "print(t)\n",
    "print(t)"
   ]
  },
  {
   "cell_type": "code",
   "execution_count": 123,
   "metadata": {},
   "outputs": [
    {
     "data": {
      "text/plain": [
       "(1, 2)"
      ]
     },
     "execution_count": 123,
     "metadata": {},
     "output_type": "execute_result"
    }
   ],
   "source": [
    "\n",
    "def angry():   \n",
    "    def happy():\n",
    "        return next(s)\n",
    "    \n",
    "    def sad():\n",
    "        i = 0\n",
    "        while True:\n",
    "            i += 1\n",
    "            yield i\n",
    "    s = sad()#这一步必须有        \n",
    "    return happy\n",
    "\n",
    "a = angry()\n",
    "a(),a()"
   ]
  },
  {
   "cell_type": "code",
   "execution_count": null,
   "metadata": {},
   "outputs": [],
   "source": []
  },
  {
   "cell_type": "code",
   "execution_count": null,
   "metadata": {},
   "outputs": [],
   "source": []
  }
 ],
 "metadata": {
  "kernelspec": {
   "display_name": "Python 3",
   "language": "python",
   "name": "python3"
  },
  "language_info": {
   "codemirror_mode": {
    "name": "ipython",
    "version": 3
   },
   "file_extension": ".py",
   "mimetype": "text/x-python",
   "name": "python",
   "nbconvert_exporter": "python",
   "pygments_lexer": "ipython3",
   "version": "3.7.4"
  }
 },
 "nbformat": 4,
 "nbformat_minor": 2
}
