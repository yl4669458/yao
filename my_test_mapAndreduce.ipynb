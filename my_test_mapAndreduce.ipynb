{
 "cells": [
  {
   "cell_type": "code",
   "execution_count": 36,
   "metadata": {},
   "outputs": [
    {
     "data": {
      "text/plain": [
       "1.23456"
      ]
     },
     "execution_count": 36,
     "metadata": {},
     "output_type": "execute_result"
    }
   ],
   "source": [
    "#高阶函数练习 map&reduce合用\n",
    "#/user/bin/python 3\n",
    "#-*- conding: utf-8 -*-\n",
    "\n",
    "from functools import reduce\n",
    "\n",
    "def str2float(s):\n",
    "    t = {'1' : 1, '2' : 2, '3' : 3, '4' : 4,\n",
    "        '5' : 5, '6' : 6, '7' : 7, '8' : 8, \n",
    "        '9' : 9, '0' : 0, '.' : '.'}\n",
    "    \n",
    "    def str1(s):\n",
    "        return t[s]\n",
    "    \n",
    "    def str2(x,y):\n",
    "        return x * 10 + y\n",
    "    \n",
    "    def str3(x,y):\n",
    "        return x / 10 + y\n",
    "    \n",
    "    point = s.index('.')\n",
    "    _int_ = reduce(str2, map(str1, s[:point]))\n",
    "    _float_ = reduce(str3, map(str1, s[:point:-1])) / 10\n",
    "    \n",
    "    return _int_ + _float_\n",
    "\n",
    "str2float('1.23456')"
   ]
  },
  {
   "cell_type": "code",
   "execution_count": null,
   "metadata": {},
   "outputs": [],
   "source": []
  },
  {
   "cell_type": "code",
   "execution_count": null,
   "metadata": {},
   "outputs": [],
   "source": []
  }
 ],
 "metadata": {
  "kernelspec": {
   "display_name": "Python 3",
   "language": "python",
   "name": "python3"
  },
  "language_info": {
   "codemirror_mode": {
    "name": "ipython",
    "version": 3
   },
   "file_extension": ".py",
   "mimetype": "text/x-python",
   "name": "python",
   "nbconvert_exporter": "python",
   "pygments_lexer": "ipython3",
   "version": "3.7.4"
  }
 },
 "nbformat": 4,
 "nbformat_minor": 2
}
