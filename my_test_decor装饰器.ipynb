{
 "cells": [
  {
   "cell_type": "code",
   "execution_count": 58,
   "metadata": {},
   "outputs": [
    {
     "ename": "AttributeError",
     "evalue": "module 'functools' has no attribute 'metric2'",
     "output_type": "error",
     "traceback": [
      "\u001b[0;31m---------------------------------------------------------------------------\u001b[0m",
      "\u001b[0;31mAttributeError\u001b[0m                            Traceback (most recent call last)",
      "\u001b[0;32m<ipython-input-58-3bfa7e9a2464>\u001b[0m in \u001b[0;36m<module>\u001b[0;34m\u001b[0m\n\u001b[1;32m     19\u001b[0m     \u001b[0;32mreturn\u001b[0m \u001b[0mx\u001b[0m \u001b[0;34m*\u001b[0m \u001b[0my\u001b[0m \u001b[0;34m*\u001b[0m \u001b[0mz\u001b[0m\u001b[0;34m\u001b[0m\u001b[0;34m\u001b[0m\u001b[0m\n\u001b[1;32m     20\u001b[0m \u001b[0;34m\u001b[0m\u001b[0m\n\u001b[0;32m---> 21\u001b[0;31m \u001b[0mf\u001b[0m \u001b[0;34m=\u001b[0m \u001b[0mmetric\u001b[0m\u001b[0;34m(\u001b[0m\u001b[0mfast\u001b[0m\u001b[0;34m(\u001b[0m\u001b[0;36m11\u001b[0m\u001b[0;34m,\u001b[0m \u001b[0;36m22\u001b[0m\u001b[0;34m)\u001b[0m\u001b[0;34m)\u001b[0m\u001b[0;34m\u001b[0m\u001b[0;34m\u001b[0m\u001b[0m\n\u001b[0m\u001b[1;32m     22\u001b[0m \u001b[0ms\u001b[0m \u001b[0;34m=\u001b[0m \u001b[0mmetric\u001b[0m\u001b[0;34m(\u001b[0m\u001b[0mslow\u001b[0m\u001b[0;34m(\u001b[0m\u001b[0;36m11\u001b[0m\u001b[0;34m,\u001b[0m \u001b[0;36m22\u001b[0m\u001b[0;34m,\u001b[0m \u001b[0;36m33\u001b[0m\u001b[0;34m)\u001b[0m\u001b[0;34m)\u001b[0m\u001b[0;34m\u001b[0m\u001b[0;34m\u001b[0m\u001b[0m\n\u001b[1;32m     23\u001b[0m \u001b[0;34m\u001b[0m\u001b[0m\n",
      "\u001b[0;32m<ipython-input-58-3bfa7e9a2464>\u001b[0m in \u001b[0;36mmetric\u001b[0;34m(fn)\u001b[0m\n\u001b[1;32m      4\u001b[0m \u001b[0;34m\u001b[0m\u001b[0m\n\u001b[1;32m      5\u001b[0m \u001b[0;32mdef\u001b[0m \u001b[0mmetric\u001b[0m\u001b[0;34m(\u001b[0m\u001b[0mfn\u001b[0m\u001b[0;34m)\u001b[0m\u001b[0;34m:\u001b[0m\u001b[0;34m\u001b[0m\u001b[0;34m\u001b[0m\u001b[0m\n\u001b[0;32m----> 6\u001b[0;31m     \u001b[0;34m@\u001b[0m\u001b[0mfunctools\u001b[0m\u001b[0;34m.\u001b[0m\u001b[0mmetric2\u001b[0m\u001b[0;34m(\u001b[0m\u001b[0mfunc\u001b[0m\u001b[0;34m)\u001b[0m\u001b[0;34m\u001b[0m\u001b[0;34m\u001b[0m\u001b[0m\n\u001b[0m\u001b[1;32m      7\u001b[0m     \u001b[0;32mdef\u001b[0m \u001b[0mmetric2\u001b[0m\u001b[0;34m(\u001b[0m\u001b[0;34m*\u001b[0m\u001b[0marge\u001b[0m\u001b[0;34m,\u001b[0m \u001b[0;34m**\u001b[0m\u001b[0mkw\u001b[0m\u001b[0;34m)\u001b[0m\u001b[0;34m:\u001b[0m\u001b[0;34m\u001b[0m\u001b[0;34m\u001b[0m\u001b[0m\n\u001b[1;32m      8\u001b[0m         \u001b[0mprint\u001b[0m\u001b[0;34m(\u001b[0m\u001b[0;34m'%s executed in %s ms'\u001b[0m \u001b[0;34m%\u001b[0m \u001b[0;34m(\u001b[0m\u001b[0mfn\u001b[0m\u001b[0;34m.\u001b[0m\u001b[0m__name__\u001b[0m\u001b[0;34m,\u001b[0m \u001b[0;36m10.24\u001b[0m\u001b[0;34m)\u001b[0m\u001b[0;34m)\u001b[0m\u001b[0;34m\u001b[0m\u001b[0;34m\u001b[0m\u001b[0m\n",
      "\u001b[0;31mAttributeError\u001b[0m: module 'functools' has no attribute 'metric2'"
     ]
    }
   ],
   "source": [
    "#-*- conding:utf-8 -*-\n",
    "import functools, time\n",
    "\n",
    "\n",
    "def metric(fn):\n",
    "    @functools.metric2(func)\n",
    "    def metric2(*arge, **kw):\n",
    "        print('%s executed in %s ms' % (fn.__name__, 10.24))\n",
    "        return fn(*arge, **kw)\n",
    "    return metric2\n",
    "\n",
    "\n",
    "def fast(x, y):\n",
    "    time.sleep(0.0012)\n",
    "    return x + y\n",
    "\n",
    "def slow(x, y, z):\n",
    "    time.sleep(0.1234)\n",
    "    return x * y * z\n",
    "    \n",
    "f = metric(fast(11, 22))\n",
    "s = metric(slow(11, 22, 33))\n",
    "\n",
    "if f != 33:\n",
    "    print('测试失败')\n",
    "elif s != 7986:\n",
    "    print('测试失败')\n",
    "    \n",
    "fast.__name__, slow.__name__"
   ]
  },
  {
   "cell_type": "code",
   "execution_count": 71,
   "metadata": {},
   "outputs": [
    {
     "name": "stdout",
     "output_type": "stream",
     "text": [
      "fox==========>>>>>>>>>>\n",
      "Hello World\n",
      "fox==========>>>>>>>>>>\n"
     ]
    },
    {
     "data": {
      "text/plain": [
       "'fox'"
      ]
     },
     "execution_count": 71,
     "metadata": {},
     "output_type": "execute_result"
    }
   ],
   "source": [
    "#装饰器\n",
    "#/user/bin/python 3\n",
    "#-*- conding:utf-8 -*-\n",
    "\n",
    "import functools\n",
    "\n",
    "def decor(func):\n",
    "    @functools.wraps(func)\n",
    "    def monkey():\n",
    "        print('%s' % func.__name__ + '='*10 + '>'*10)\n",
    "        f = func()\n",
    "        print('%s' % func.__name__ + '='*10 + '>'*10)\n",
    "        return f\n",
    "    return monkey\n",
    "\n",
    "@decor\n",
    "def fox():\n",
    "    print('Hello World')\n",
    "    \n",
    "fox()\n",
    "fox.__name__"
   ]
  },
  {
   "cell_type": "code",
   "execution_count": 69,
   "metadata": {},
   "outputs": [
    {
     "name": "stdout",
     "output_type": "stream",
     "text": [
      "fast executed in 10.24 ms\n"
     ]
    },
    {
     "ename": "AttributeError",
     "evalue": "'int' object has no attribute '__name__'",
     "output_type": "error",
     "traceback": [
      "\u001b[0;31m---------------------------------------------------------------------------\u001b[0m",
      "\u001b[0;31mAttributeError\u001b[0m                            Traceback (most recent call last)",
      "\u001b[0;32m<ipython-input-69-1026ca82d002>\u001b[0m in \u001b[0;36m<module>\u001b[0;34m\u001b[0m\n\u001b[1;32m     20\u001b[0m \u001b[0;34m\u001b[0m\u001b[0m\n\u001b[1;32m     21\u001b[0m \u001b[0mf\u001b[0m \u001b[0;34m=\u001b[0m \u001b[0mfast\u001b[0m\u001b[0;34m(\u001b[0m\u001b[0;36m11\u001b[0m\u001b[0;34m,\u001b[0m \u001b[0;36m22\u001b[0m\u001b[0;34m)\u001b[0m\u001b[0;34m\u001b[0m\u001b[0;34m\u001b[0m\u001b[0m\n\u001b[0;32m---> 22\u001b[0;31m \u001b[0mf\u001b[0m\u001b[0;34m.\u001b[0m\u001b[0m__name__\u001b[0m\u001b[0;34m\u001b[0m\u001b[0;34m\u001b[0m\u001b[0m\n\u001b[0m",
      "\u001b[0;31mAttributeError\u001b[0m: 'int' object has no attribute '__name__'"
     ]
    }
   ],
   "source": [
    "#装饰器\n",
    "#/user/bin/python 3\n",
    "#-*- coding:utf-8 -*-\n",
    "\n",
    "import functools, time\n",
    "\n",
    "def metric(txt):\n",
    "    def metric2(func):\n",
    "        @functools.wraps(func)\n",
    "        def monkey(*arge, **kw):\n",
    "            print('%s executed in %s ms' % (func.__name__, 10.24))\n",
    "            return func(*arge, **kw)\n",
    "        return monkey\n",
    "    return metric2\n",
    "\n",
    "@metric('Hello')       \n",
    "def fast(x, y):\n",
    "    time.sleep(0.0012)\n",
    "    return x + y\n",
    "\n",
    "f = fast(11, 22)\n",
    "f.__name__\n"
   ]
  },
  {
   "cell_type": "code",
   "execution_count": 72,
   "metadata": {},
   "outputs": [
    {
     "data": {
      "text/plain": [
       "'abcdefghijklmnopqrstuvwxyz\\nabcdefghijklmnopqrstuvwxyz\\nabcdefghijklmnopqrstuvwxyz\\nabcdefghijklmnopqrstuvwxyz\\nabcdefghijklmnopqrstuvwxyz\\nabcdefghijklmnopqrstuvwxyz\\nabcdefghijklmnopqrstuvwxyz\\nabcdefghijklmnopqrstuvwxyz\\nabcdefghijklmnopqrstuvwxyz\\nabcdefghijklmnopqrstuvwxyz\\nabcdefghijklmnopqrstuvwxyz\\nabcdefghijklmnopqrstuvwxyz\\n'"
      ]
     },
     "execution_count": 72,
     "metadata": {},
     "output_type": "execute_result"
    }
   ],
   "source": [
    "\"\"\"abcdefghijklmnopqrstuvwxyz\n",
    "abcdefghijklmnopqrstuvwxyz\n",
    "abcdefghijklmnopqrstuvwxyz\n",
    "abcdefghijklmnopqrstuvwxyz\n",
    "abcdefghijklmnopqrstuvwxyz\n",
    "abcdefghijklmnopqrstuvwxyz\n",
    "abcdefghijklmnopqrstuvwxyz\n",
    "abcdefghijklmnopqrstuvwxyz\n",
    "abcdefghijklmnopqrstuvwxyz\n",
    "abcdefghijklmnopqrstuvwxyz\n",
    "abcdefghijklmnopqrstuvwxyz\n",
    "abcdefghijklmnopqrstuvwxyz\n",
    "\"\"\""
   ]
  },
  {
   "cell_type": "code",
   "execution_count": 75,
   "metadata": {},
   "outputs": [
    {
     "name": "stdout",
     "output_type": "stream",
     "text": [
      "how are you\n",
      "I am yao liang\n"
     ]
    }
   ],
   "source": [
    "print('''how are you\n",
    "I am yao liang''')"
   ]
  },
  {
   "cell_type": "code",
   "execution_count": null,
   "metadata": {},
   "outputs": [],
   "source": [
    "abcdefghijklmnopqrstuvwxyz\n",
    "abcdefghijklmnopqrstuvwxyz\n"
   ]
  }
 ],
 "metadata": {
  "kernelspec": {
   "display_name": "Python 3",
   "language": "python",
   "name": "python3"
  },
  "language_info": {
   "codemirror_mode": {
    "name": "ipython",
    "version": 3
   },
   "file_extension": ".py",
   "mimetype": "text/x-python",
   "name": "python",
   "nbconvert_exporter": "python",
   "pygments_lexer": "ipython3",
   "version": "3.7.4"
  }
 },
 "nbformat": 4,
 "nbformat_minor": 2
}
